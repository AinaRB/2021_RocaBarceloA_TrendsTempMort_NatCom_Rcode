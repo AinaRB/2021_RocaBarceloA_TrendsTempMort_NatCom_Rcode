{
  "nbformat": 4,
  "nbformat_minor": 0,
  "metadata": {
    "colab": {
      "provenance": [],
      "authorship_tag": "ABX9TyOmybzQYwIlt9y5l24kX2TJ",
      "include_colab_link": true
    },
    "kernelspec": {
      "name": "python3",
      "display_name": "Python 3"
    },
    "language_info": {
      "name": "python"
    }
  },
  "cells": [
    {
      "cell_type": "markdown",
      "metadata": {
        "id": "view-in-github",
        "colab_type": "text"
      },
      "source": [
        "<a href=\"https://colab.research.google.com/github/AinaRB/2021_RocaBarceloA_TrendsTempMort__Rcode/blob/main/EnvSetup.ipynb\" target=\"_parent\"><img src=\"https://colab.research.google.com/assets/colab-badge.svg\" alt=\"Open In Colab\"/></a>"
      ]
    },
    {
      "cell_type": "code",
      "source": [
        "!conda --version\n",
        "!which python\n",
        "!python --version\n",
        "!echo $PYTHONPATH"
      ],
      "metadata": {
        "colab": {
          "base_uri": "https://localhost:8080/"
        },
        "id": "X-zL_s6JODXc",
        "outputId": "1e54a16f-f838-45b9-8cce-faedd4bafb6b"
      },
      "execution_count": 4,
      "outputs": [
        {
          "output_type": "stream",
          "name": "stdout",
          "text": [
            "conda 4.14.0\n",
            "/usr/local/bin/python\n",
            "Python 3.7.12\n",
            "/env/python\n"
          ]
        }
      ]
    },
    {
      "cell_type": "markdown",
      "source": [
        "You can activate and run a new conda environment in Google Colab by using the magic %%bash command:"
      ],
      "metadata": {
        "id": "Z6_mc6TlOtMN"
      }
    },
    {
      "cell_type": "code",
      "source": [
        "!conda info --envs"
      ],
      "metadata": {
        "colab": {
          "base_uri": "https://localhost:8080/"
        },
        "id": "IW4iFpc6PMCK",
        "outputId": "25b8f445-7d5c-49d6-b96d-48d140677a3f"
      },
      "execution_count": 9,
      "outputs": [
        {
          "output_type": "stream",
          "name": "stdout",
          "text": [
            "\n",
            "CondaError: KeyboardInterrupt\n",
            "\n"
          ]
        }
      ]
    }
  ]
}